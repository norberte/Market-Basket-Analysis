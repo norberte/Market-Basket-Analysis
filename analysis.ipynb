{
 "cells": [
  {
   "cell_type": "markdown",
   "metadata": {},
   "source": [
    "# Migros Online Case Study"
   ]
  },
  {
   "cell_type": "markdown",
   "metadata": {},
   "source": [
    "## Main tasks:\n",
    "\n",
    "    1. Analyze the data, show us what you did/would do and explain us how to interpret results. You are free to use any tools you like.\n",
    "    2. Describe a model you would choose to provide a website personalization solution. Define your own (imaginary) goal for this personalization.  How would you adjust the model/analysis if used regularly.\n",
    "    3. Describe at least one way of how to deploy your solution in terms of software architechture. You can make assumptions on how you would receive this data and show us a pipeline. (If you have some prior knowledge consider GCP as an environment.)"
   ]
  },
  {
   "cell_type": "code",
   "execution_count": 1,
   "metadata": {},
   "outputs": [
    {
     "name": "stderr",
     "output_type": "stream",
     "text": [
      "c:\\users\\norbert\\appdata\\local\\programs\\python\\python36\\lib\\site-packages\\numpy\\_distributor_init.py:32: UserWarning: loaded more than 1 DLL from .libs:\n",
      "c:\\users\\norbert\\appdata\\local\\programs\\python\\python36\\lib\\site-packages\\numpy\\.libs\\libopenblas.NOIJJG62EMASZI6NYURL6JBKM4EVBGM7.gfortran-win_amd64.dll\n",
      "c:\\users\\norbert\\appdata\\local\\programs\\python\\python36\\lib\\site-packages\\numpy\\.libs\\libopenblas.WCDJNK7YVMPZQ2ME2ZZHJJRJ3JIKNDB7.gfortran-win_amd64.dll\n",
      "  stacklevel=1)\n"
     ]
    }
   ],
   "source": [
    "import pandas as pd\n",
    "import numpy as np\n",
    "\n",
    "import sklearn as sk\n",
    "\n",
    "import seaborn as sb\n",
    "from matplotlib import pyplot as plt\n",
    "%matplotlib inline\n",
    "\n",
    "import warnings\n",
    "warnings.filterwarnings('ignore')"
   ]
  },
  {
   "cell_type": "code",
   "execution_count": 2,
   "metadata": {},
   "outputs": [
    {
     "name": "stdout",
     "output_type": "stream",
     "text": [
      "<class 'pandas.core.frame.DataFrame'>\n",
      "RangeIndex: 100 entries, 0 to 99\n",
      "Data columns (total 10 columns):\n",
      " #   Column                   Non-Null Count  Dtype  \n",
      "---  ------                   --------------  -----  \n",
      " 0   transactions             100 non-null    int64  \n",
      " 1   loyalty                  100 non-null    float64\n",
      " 2   days_since_last_contact  100 non-null    int64  \n",
      " 3   gender                   100 non-null    object \n",
      " 4   person_id                100 non-null    object \n",
      " 5   product_ids              100 non-null    object \n",
      " 6   One.hot.1                100 non-null    int64  \n",
      " 7   One.hot.2                100 non-null    int64  \n",
      " 8   One.hot.3                100 non-null    int64  \n",
      " 9   One.hot.4                100 non-null    int64  \n",
      "dtypes: float64(1), int64(6), object(3)\n",
      "memory usage: 7.9+ KB\n"
     ]
    }
   ],
   "source": [
    "df = pd.read_csv('interview_case_study.csv', header = 0, \n",
    "                 names = ['transactions','loyalty','days_since_last_contact','gender','person_id',\n",
    "                          'product_ids','One.hot.1','One.hot.2','One.hot.3','One.hot.4'])\n",
    "\n",
    "df.info()"
   ]
  },
  {
   "cell_type": "markdown",
   "metadata": {},
   "source": [
    "### Data Pre-processing"
   ]
  },
  {
   "cell_type": "code",
   "execution_count": 3,
   "metadata": {},
   "outputs": [
    {
     "name": "stdout",
     "output_type": "stream",
     "text": [
      "<class 'pandas.core.frame.DataFrame'>\n",
      "RangeIndex: 100 entries, 0 to 99\n",
      "Data columns (total 10 columns):\n",
      " #   Column                   Non-Null Count  Dtype   \n",
      "---  ------                   --------------  -----   \n",
      " 0   transactions             100 non-null    int64   \n",
      " 1   loyalty                  100 non-null    float64 \n",
      " 2   days_since_last_contact  100 non-null    int64   \n",
      " 3   gender                   100 non-null    category\n",
      " 4   person_id                100 non-null    object  \n",
      " 5   product_ids              100 non-null    object  \n",
      " 6   One.hot.1                100 non-null    category\n",
      " 7   One.hot.2                100 non-null    category\n",
      " 8   One.hot.3                100 non-null    category\n",
      " 9   One.hot.4                100 non-null    category\n",
      "dtypes: category(5), float64(1), int64(2), object(2)\n",
      "memory usage: 5.0+ KB\n"
     ]
    }
   ],
   "source": [
    "df['gender'] = pd.Categorical(df['gender'])\n",
    "#df['product_ids'] = pd.Series(df['product_ids'])\n",
    "\n",
    "df['One.hot.1'] = pd.Categorical(df['One.hot.1'])\n",
    "df['One.hot.2'] = pd.Categorical(df['One.hot.2'])\n",
    "df['One.hot.3'] = pd.Categorical(df['One.hot.3'])\n",
    "df['One.hot.4'] = pd.Categorical(df['One.hot.4'])\n",
    "\n",
    "df.info()"
   ]
  },
  {
   "cell_type": "markdown",
   "metadata": {},
   "source": [
    "#### Demo & Explanation for One-Hot Encodings being present in the data"
   ]
  },
  {
   "cell_type": "code",
   "execution_count": 4,
   "metadata": {},
   "outputs": [
    {
     "name": "stdout",
     "output_type": "stream",
     "text": [
      "The original data\n",
      "\n",
      "  grocery_type\n",
      "0        dairy\n",
      "1        dairy\n",
      "2    vegetable\n",
      "3         meat\n",
      "4        fruit\n",
      "5         meat\n",
      "\n",
      "\n",
      "------------------------------\n",
      "The transformed data\n",
      "\n",
      "   Product_dairy  Product_fruit  Product_meat  Product_vegetable\n",
      "0              1              0             0                  0\n",
      "1              1              0             0                  0\n",
      "2              0              0             0                  1\n",
      "3              0              0             1                  0\n",
      "4              0              1             0                  0\n",
      "5              0              0             1                  0\n"
     ]
    }
   ],
   "source": [
    "demo = pd.DataFrame({\"grocery_type\": [\"dairy\", \"dairy\", \"vegetable\", \"meat\", \"fruit\", \"meat\"]})\n",
    "print(\"The original data\\n\")\n",
    "print(demo)\n",
    "\n",
    "print(\"\\n\")\n",
    "print(\"-\" * 30)\n",
    "\n",
    "demo_new = pd.get_dummies(demo, columns=[\"grocery_type\"], prefix=\"Product\")\n",
    "print(\"The transformed data\\n\")\n",
    "print(demo_new)"
   ]
  },
  {
   "cell_type": "markdown",
   "metadata": {},
   "source": [
    "### Discussion (before analysis)\n",
    "\n",
    "Q: If you look at the data, what do you see? What would you look at in general?\n",
    "\n",
    "A: This data extract shows "
   ]
  },
  {
   "cell_type": "code",
   "execution_count": 5,
   "metadata": {},
   "outputs": [
    {
     "data": {
      "text/html": [
       "<div>\n",
       "<style scoped>\n",
       "    .dataframe tbody tr th:only-of-type {\n",
       "        vertical-align: middle;\n",
       "    }\n",
       "\n",
       "    .dataframe tbody tr th {\n",
       "        vertical-align: top;\n",
       "    }\n",
       "\n",
       "    .dataframe thead th {\n",
       "        text-align: right;\n",
       "    }\n",
       "</style>\n",
       "<table border=\"1\" class=\"dataframe\">\n",
       "  <thead>\n",
       "    <tr style=\"text-align: right;\">\n",
       "      <th></th>\n",
       "      <th>transactions</th>\n",
       "      <th>loyalty</th>\n",
       "      <th>days_since_last_contact</th>\n",
       "      <th>gender</th>\n",
       "      <th>person_id</th>\n",
       "      <th>product_ids</th>\n",
       "      <th>One.hot.1</th>\n",
       "      <th>One.hot.2</th>\n",
       "      <th>One.hot.3</th>\n",
       "      <th>One.hot.4</th>\n",
       "    </tr>\n",
       "  </thead>\n",
       "  <tbody>\n",
       "    <tr>\n",
       "      <th>0</th>\n",
       "      <td>4</td>\n",
       "      <td>-1.33</td>\n",
       "      <td>2</td>\n",
       "      <td>m</td>\n",
       "      <td>170636bb-3601-4a18-b572-52650c0d2d0e</td>\n",
       "      <td>[7881,10834,61603,62040,63288,125830]</td>\n",
       "      <td>1</td>\n",
       "      <td>0</td>\n",
       "      <td>0</td>\n",
       "      <td>0</td>\n",
       "    </tr>\n",
       "    <tr>\n",
       "      <th>1</th>\n",
       "      <td>6</td>\n",
       "      <td>-0.28</td>\n",
       "      <td>3</td>\n",
       "      <td>m</td>\n",
       "      <td>2a4c9697-b937-4429-9fd3-5529929a1ab9</td>\n",
       "      <td>[10834,61603,62040,63288,125830]</td>\n",
       "      <td>1</td>\n",
       "      <td>0</td>\n",
       "      <td>0</td>\n",
       "      <td>0</td>\n",
       "    </tr>\n",
       "    <tr>\n",
       "      <th>2</th>\n",
       "      <td>5</td>\n",
       "      <td>-0.22</td>\n",
       "      <td>1</td>\n",
       "      <td>w</td>\n",
       "      <td>4d12441d-3748-4b05-81bf-fd24f9f9d6f4</td>\n",
       "      <td>[63288,125830]</td>\n",
       "      <td>1</td>\n",
       "      <td>0</td>\n",
       "      <td>0</td>\n",
       "      <td>0</td>\n",
       "    </tr>\n",
       "    <tr>\n",
       "      <th>3</th>\n",
       "      <td>7</td>\n",
       "      <td>-0.29</td>\n",
       "      <td>0</td>\n",
       "      <td>m</td>\n",
       "      <td>00f173be-96b1-4407-809c-6882e5bbb1fd</td>\n",
       "      <td>[7881,10834]</td>\n",
       "      <td>0</td>\n",
       "      <td>1</td>\n",
       "      <td>0</td>\n",
       "      <td>0</td>\n",
       "    </tr>\n",
       "    <tr>\n",
       "      <th>4</th>\n",
       "      <td>4</td>\n",
       "      <td>1.06</td>\n",
       "      <td>5</td>\n",
       "      <td>m</td>\n",
       "      <td>f5aa1643-398f-4027-ab75-7b72ebe92d90</td>\n",
       "      <td>[7881,10834,62040,63288,125830]</td>\n",
       "      <td>0</td>\n",
       "      <td>0</td>\n",
       "      <td>1</td>\n",
       "      <td>0</td>\n",
       "    </tr>\n",
       "  </tbody>\n",
       "</table>\n",
       "</div>"
      ],
      "text/plain": [
       "   transactions  loyalty  days_since_last_contact gender  \\\n",
       "0             4    -1.33                        2      m   \n",
       "1             6    -0.28                        3      m   \n",
       "2             5    -0.22                        1      w   \n",
       "3             7    -0.29                        0      m   \n",
       "4             4     1.06                        5      m   \n",
       "\n",
       "                              person_id  \\\n",
       "0  170636bb-3601-4a18-b572-52650c0d2d0e   \n",
       "1  2a4c9697-b937-4429-9fd3-5529929a1ab9   \n",
       "2  4d12441d-3748-4b05-81bf-fd24f9f9d6f4   \n",
       "3  00f173be-96b1-4407-809c-6882e5bbb1fd   \n",
       "4  f5aa1643-398f-4027-ab75-7b72ebe92d90   \n",
       "\n",
       "                             product_ids One.hot.1 One.hot.2 One.hot.3  \\\n",
       "0  [7881,10834,61603,62040,63288,125830]         1         0         0   \n",
       "1       [10834,61603,62040,63288,125830]         1         0         0   \n",
       "2                         [63288,125830]         1         0         0   \n",
       "3                           [7881,10834]         0         1         0   \n",
       "4        [7881,10834,62040,63288,125830]         0         0         1   \n",
       "\n",
       "  One.hot.4  \n",
       "0         0  \n",
       "1         0  \n",
       "2         0  \n",
       "3         0  \n",
       "4         0  "
      ]
     },
     "execution_count": 5,
     "metadata": {},
     "output_type": "execute_result"
    }
   ],
   "source": [
    "df.head()"
   ]
  },
  {
   "cell_type": "markdown",
   "metadata": {},
   "source": [
    "Q: What has been done already? What has not been done? What else should (not)(have) been done?\n",
    "\n",
    "A:"
   ]
  },
  {
   "cell_type": "code",
   "execution_count": null,
   "metadata": {},
   "outputs": [],
   "source": []
  },
  {
   "cell_type": "markdown",
   "metadata": {},
   "source": [
    "Q: What problems / challenges would you see?\n",
    "\n",
    "A:"
   ]
  },
  {
   "cell_type": "code",
   "execution_count": null,
   "metadata": {},
   "outputs": [],
   "source": []
  },
  {
   "cell_type": "markdown",
   "metadata": {},
   "source": [
    "Q: How would you choose which data to integrate into the model and and how much of it?\n",
    "\n",
    "A:"
   ]
  },
  {
   "cell_type": "code",
   "execution_count": null,
   "metadata": {},
   "outputs": [],
   "source": []
  },
  {
   "cell_type": "markdown",
   "metadata": {},
   "source": [
    "Q: How would you show accuracy/ precision or relevant statistics of your chosen model?\n",
    "\n",
    "A:"
   ]
  },
  {
   "cell_type": "code",
   "execution_count": null,
   "metadata": {},
   "outputs": [],
   "source": []
  },
  {
   "cell_type": "markdown",
   "metadata": {},
   "source": [
    "## Task 1: Exploratory Data Analysis (mainly visualizations)"
   ]
  },
  {
   "cell_type": "code",
   "execution_count": 6,
   "metadata": {},
   "outputs": [
    {
     "data": {
      "text/html": [
       "<div>\n",
       "<style scoped>\n",
       "    .dataframe tbody tr th:only-of-type {\n",
       "        vertical-align: middle;\n",
       "    }\n",
       "\n",
       "    .dataframe tbody tr th {\n",
       "        vertical-align: top;\n",
       "    }\n",
       "\n",
       "    .dataframe thead th {\n",
       "        text-align: right;\n",
       "    }\n",
       "</style>\n",
       "<table border=\"1\" class=\"dataframe\">\n",
       "  <thead>\n",
       "    <tr style=\"text-align: right;\">\n",
       "      <th></th>\n",
       "      <th>transactions</th>\n",
       "      <th>loyalty</th>\n",
       "      <th>days_since_last_contact</th>\n",
       "    </tr>\n",
       "  </thead>\n",
       "  <tbody>\n",
       "    <tr>\n",
       "      <th>count</th>\n",
       "      <td>100.000000</td>\n",
       "      <td>100.000000</td>\n",
       "      <td>100.000000</td>\n",
       "    </tr>\n",
       "    <tr>\n",
       "      <th>mean</th>\n",
       "      <td>6.550000</td>\n",
       "      <td>-0.000090</td>\n",
       "      <td>6.280000</td>\n",
       "    </tr>\n",
       "    <tr>\n",
       "      <th>std</th>\n",
       "      <td>2.709411</td>\n",
       "      <td>1.002703</td>\n",
       "      <td>3.861438</td>\n",
       "    </tr>\n",
       "    <tr>\n",
       "      <th>min</th>\n",
       "      <td>1.000000</td>\n",
       "      <td>-1.710000</td>\n",
       "      <td>0.000000</td>\n",
       "    </tr>\n",
       "    <tr>\n",
       "      <th>25%</th>\n",
       "      <td>5.000000</td>\n",
       "      <td>-0.742500</td>\n",
       "      <td>3.000000</td>\n",
       "    </tr>\n",
       "    <tr>\n",
       "      <th>50%</th>\n",
       "      <td>7.000000</td>\n",
       "      <td>-0.100500</td>\n",
       "      <td>5.000000</td>\n",
       "    </tr>\n",
       "    <tr>\n",
       "      <th>75%</th>\n",
       "      <td>8.250000</td>\n",
       "      <td>1.032500</td>\n",
       "      <td>9.000000</td>\n",
       "    </tr>\n",
       "    <tr>\n",
       "      <th>max</th>\n",
       "      <td>15.000000</td>\n",
       "      <td>1.400000</td>\n",
       "      <td>14.000000</td>\n",
       "    </tr>\n",
       "  </tbody>\n",
       "</table>\n",
       "</div>"
      ],
      "text/plain": [
       "       transactions     loyalty  days_since_last_contact\n",
       "count    100.000000  100.000000               100.000000\n",
       "mean       6.550000   -0.000090                 6.280000\n",
       "std        2.709411    1.002703                 3.861438\n",
       "min        1.000000   -1.710000                 0.000000\n",
       "25%        5.000000   -0.742500                 3.000000\n",
       "50%        7.000000   -0.100500                 5.000000\n",
       "75%        8.250000    1.032500                 9.000000\n",
       "max       15.000000    1.400000                14.000000"
      ]
     },
     "execution_count": 6,
     "metadata": {},
     "output_type": "execute_result"
    }
   ],
   "source": [
    "df.describe()"
   ]
  },
  {
   "cell_type": "code",
   "execution_count": 7,
   "metadata": {},
   "outputs": [
    {
     "data": {
      "image/png": "[encoded data removed]",
      "text/plain": [
       "<Figure size 1152x576 with 3 Axes>"
      ]
     },
     "metadata": {},
     "output_type": "display_data"
    }
   ],
   "source": [
    "plt.style.use('ggplot')\n",
    "\n",
    "fig = plt.figure(figsize=(16,8))\n",
    "\n",
    "# Create subplot 1\n",
    "ax1 = fig.add_subplot(131) # Grid of 1x3, this is suplot 1\n",
    "ax1.set_xlabel('Number of Previous Transactions')\n",
    "ax1.set_ylabel('Count')\n",
    "ax1.set_title('Subplot 1: Histogram of Previous Transaction Numbers')\n",
    "\n",
    "ax1 = plt.hist(df['transactions'], bins=np.arange(1,16,1), color = 'tab:blue')\n",
    "\n",
    "# Create subplot 2\n",
    "ax2 = fig.add_subplot(132) # Grid of 1x3, this is suplot 2\n",
    "ax2.set_xlabel('Loyalty Score')\n",
    "ax2.set_ylabel('Count')\n",
    "ax2.set_title('Subplot 2: Histogram of Loyalty Scores')\n",
    "\n",
    "ax2 = plt.hist(df['loyalty'], bins=np.arange(-1.8,1.5,0.1), color = 'tab:blue')\n",
    "\n",
    "# Create subplot 3\n",
    "ax3 = fig.add_subplot(133) # Grid of 1x3, this is suplot 3\n",
    "ax3.set_xlabel('Number of Days Since Last Contact')\n",
    "ax3.set_ylabel('Count')\n",
    "ax3.set_title('Subplot 3: Histogram of Days Since Last Contact')\n",
    "\n",
    "ax3 = plt.hist(df['days_since_last_contact'], bins=np.arange(0,15,1), color = 'tab:blue')\n",
    "\n",
    "# Add main title\n",
    "plt.suptitle('Distributions of Numerical Variables', size = 20)\n",
    "\n",
    "plt.tight_layout(pad=4)\n",
    "plt.ticklabel_format(style = 'plain')\n",
    "plt.show()"
   ]
  },
  {
   "cell_type": "code",
   "execution_count": 8,
   "metadata": {},
   "outputs": [
    {
     "data": {
      "image/png": "[encoded data removed]",
      "text/plain": [
       "<Figure size 720x432 with 2 Axes>"
      ]
     },
     "metadata": {},
     "output_type": "display_data"
    }
   ],
   "source": [
    "labels = ['One.Hot.1', 'One.Hot.2', 'One.Hot.3', 'One.Hot.4']\n",
    "\n",
    "labels_category = ['Category I', 'Category II', 'Category III', 'Category IV']\n",
    "\n",
    "\n",
    "# in this specific case we have sample size = 100, so we don't even need to calculate percentages\n",
    "# the actual value counts will be the percentage\n",
    "no_percentage = [df['One.hot.1'].value_counts()[0], df['One.hot.2'].value_counts()[0], \n",
    "                 df['One.hot.3'].value_counts()[0], df['One.hot.4'].value_counts()[0]]\n",
    "\n",
    "yes_percentage = [df['One.hot.1'].value_counts()[1], df['One.hot.2'].value_counts()[1], \n",
    "                 df['One.hot.3'].value_counts()[1], df['One.hot.4'].value_counts()[1]]\n",
    "\n",
    "x = np.arange(len(labels))  # the label locations\n",
    "width = 0.35  # the width of the bars\n",
    "\n",
    "fig = plt.figure(figsize=(10,6))\n",
    "\n",
    "ax1 = fig.add_subplot(121)\n",
    "ax1.bar(x - width/2, no_percentage, width, label='No')\n",
    "ax1.bar(x + width/2, yes_percentage, width, label='Yes')\n",
    "\n",
    "ax1.set_ylabel('Percentage')\n",
    "ax1.set_title('Percentage Breakdown of One-Hot\\'s')\n",
    "ax1.set_xticks(x)\n",
    "ax1.set_xticklabels(labels)\n",
    "ax1.legend()\n",
    "\n",
    "\n",
    "ax2 = fig.add_subplot(122)\n",
    "\n",
    "ax2.set_ylabel('Percentage')\n",
    "ax2.set_title('Percentage Breakdown of \"Categories\"')\n",
    "\n",
    "ax2 = plt.bar(labels_category, yes_percentage, color='tab:blue')\n",
    "\n",
    "plt.show()"
   ]
  },
  {
   "cell_type": "code",
   "execution_count": 9,
   "metadata": {},
   "outputs": [
    {
     "data": {
      "text/plain": [
       "[30, 22, 16, 32]"
      ]
     },
     "execution_count": 9,
     "metadata": {},
     "output_type": "execute_result"
    }
   ],
   "source": [
    "yes_percentage"
   ]
  },
  {
   "cell_type": "markdown",
   "metadata": {},
   "source": [
    "### Frequency counts of product IDs"
   ]
  },
  {
   "cell_type": "code",
   "execution_count": 10,
   "metadata": {},
   "outputs": [],
   "source": [
    "import json\n",
    "\n",
    "df['processed_product_ids'] = df['product_ids'].apply(lambda x: np.array(json.loads(x)))"
   ]
  },
  {
   "cell_type": "code",
   "execution_count": 11,
   "metadata": {},
   "outputs": [
    {
     "data": {
      "text/plain": [
       "10834     82\n",
       "63288     67\n",
       "125830    67\n",
       "7881      64\n",
       "61603     53\n",
       "62040     49\n",
       "Name: processed_product_ids, dtype: int64"
      ]
     },
     "execution_count": 11,
     "metadata": {},
     "output_type": "execute_result"
    }
   ],
   "source": [
    "df['processed_product_ids'].explode().value_counts()"
   ]
  },
  {
   "cell_type": "code",
   "execution_count": 12,
   "metadata": {},
   "outputs": [
    {
     "data": {
      "text/plain": [
       "[7881, 10834, 61603, 62040, 63288, 125830]"
      ]
     },
     "execution_count": 12,
     "metadata": {},
     "output_type": "execute_result"
    }
   ],
   "source": [
    "unique_product_list = df['processed_product_ids'].explode().unique().tolist()\n",
    "unique_product_list"
   ]
  },
  {
   "cell_type": "markdown",
   "metadata": {},
   "source": [
    "TO DO: Explain that there are only 6 unique products"
   ]
  },
  {
   "cell_type": "markdown",
   "metadata": {},
   "source": [
    "## TASK 2: Market Basket Analysis (Association Analysis) for Personalized Shopping Recommendation"
   ]
  },
  {
   "cell_type": "code",
   "execution_count": 13,
   "metadata": {},
   "outputs": [],
   "source": [
    "from mlxtend.frequent_patterns import apriori\n",
    "from mlxtend.frequent_patterns import association_rules"
   ]
  },
  {
   "cell_type": "markdown",
   "metadata": {},
   "source": [
    "### Intro to Association Analysis \n",
    "\n",
    "Given a set of transactions, find rules that will predict the occurrence of an item based on the occurrences of other items in the transaction. \n",
    "\n",
    "For example, “If someone buys beer and sausage, then is likely to buy mustard with high probability“"
   ]
  },
  {
   "cell_type": "markdown",
   "metadata": {},
   "source": [
    "### Prepare binary matrix with columns corresponding to products and rows corresponding to a person's shopping list"
   ]
  },
  {
   "cell_type": "code",
   "execution_count": 60,
   "metadata": {},
   "outputs": [
    {
     "data": {
      "text/plain": [
       "1"
      ]
     },
     "execution_count": 60,
     "metadata": {},
     "output_type": "execute_result"
    }
   ],
   "source": [
    "def encode_data(df, person_id, product):\n",
    "    shopping_list = df[df['person_id'] == person_id]['processed_product_ids'].to_numpy()[0]\n",
    "    if product in shopping_list:\n",
    "        return 1\n",
    "    else:\n",
    "        return 0\n",
    "    \n",
    "encode_data(\"2a4c9697-b937-4429-9fd3-5529929a1ab9\", 62040)"
   ]
  },
  {
   "cell_type": "code",
   "execution_count": 61,
   "metadata": {},
   "outputs": [
    {
     "data": {
      "text/html": [
       "<div>\n",
       "<style scoped>\n",
       "    .dataframe tbody tr th:only-of-type {\n",
       "        vertical-align: middle;\n",
       "    }\n",
       "\n",
       "    .dataframe tbody tr th {\n",
       "        vertical-align: top;\n",
       "    }\n",
       "\n",
       "    .dataframe thead th {\n",
       "        text-align: right;\n",
       "    }\n",
       "</style>\n",
       "<table border=\"1\" class=\"dataframe\">\n",
       "  <thead>\n",
       "    <tr style=\"text-align: right;\">\n",
       "      <th></th>\n",
       "      <th>7881</th>\n",
       "      <th>10834</th>\n",
       "      <th>61603</th>\n",
       "      <th>62040</th>\n",
       "      <th>63288</th>\n",
       "      <th>125830</th>\n",
       "    </tr>\n",
       "    <tr>\n",
       "      <th>person_id</th>\n",
       "      <th></th>\n",
       "      <th></th>\n",
       "      <th></th>\n",
       "      <th></th>\n",
       "      <th></th>\n",
       "      <th></th>\n",
       "    </tr>\n",
       "  </thead>\n",
       "  <tbody>\n",
       "    <tr>\n",
       "      <th>170636bb-3601-4a18-b572-52650c0d2d0e</th>\n",
       "      <td>1</td>\n",
       "      <td>1</td>\n",
       "      <td>1</td>\n",
       "      <td>1</td>\n",
       "      <td>1</td>\n",
       "      <td>1</td>\n",
       "    </tr>\n",
       "    <tr>\n",
       "      <th>2a4c9697-b937-4429-9fd3-5529929a1ab9</th>\n",
       "      <td>0</td>\n",
       "      <td>1</td>\n",
       "      <td>1</td>\n",
       "      <td>1</td>\n",
       "      <td>1</td>\n",
       "      <td>1</td>\n",
       "    </tr>\n",
       "    <tr>\n",
       "      <th>4d12441d-3748-4b05-81bf-fd24f9f9d6f4</th>\n",
       "      <td>0</td>\n",
       "      <td>0</td>\n",
       "      <td>0</td>\n",
       "      <td>0</td>\n",
       "      <td>1</td>\n",
       "      <td>1</td>\n",
       "    </tr>\n",
       "    <tr>\n",
       "      <th>00f173be-96b1-4407-809c-6882e5bbb1fd</th>\n",
       "      <td>1</td>\n",
       "      <td>1</td>\n",
       "      <td>0</td>\n",
       "      <td>0</td>\n",
       "      <td>0</td>\n",
       "      <td>0</td>\n",
       "    </tr>\n",
       "    <tr>\n",
       "      <th>f5aa1643-398f-4027-ab75-7b72ebe92d90</th>\n",
       "      <td>1</td>\n",
       "      <td>1</td>\n",
       "      <td>0</td>\n",
       "      <td>1</td>\n",
       "      <td>1</td>\n",
       "      <td>1</td>\n",
       "    </tr>\n",
       "    <tr>\n",
       "      <th>...</th>\n",
       "      <td>...</td>\n",
       "      <td>...</td>\n",
       "      <td>...</td>\n",
       "      <td>...</td>\n",
       "      <td>...</td>\n",
       "      <td>...</td>\n",
       "    </tr>\n",
       "    <tr>\n",
       "      <th>f00c336b-e02c-44e5-8bfa-59b71374fa54</th>\n",
       "      <td>0</td>\n",
       "      <td>0</td>\n",
       "      <td>0</td>\n",
       "      <td>0</td>\n",
       "      <td>1</td>\n",
       "      <td>1</td>\n",
       "    </tr>\n",
       "    <tr>\n",
       "      <th>49402263-e3b7-4305-a09e-f5508ab4aa92</th>\n",
       "      <td>0</td>\n",
       "      <td>0</td>\n",
       "      <td>0</td>\n",
       "      <td>0</td>\n",
       "      <td>1</td>\n",
       "      <td>1</td>\n",
       "    </tr>\n",
       "    <tr>\n",
       "      <th>ea684db5-6354-4e26-80a5-555115109460</th>\n",
       "      <td>1</td>\n",
       "      <td>1</td>\n",
       "      <td>0</td>\n",
       "      <td>0</td>\n",
       "      <td>0</td>\n",
       "      <td>0</td>\n",
       "    </tr>\n",
       "    <tr>\n",
       "      <th>d942bf24-3078-49be-9d82-9103bb630a65</th>\n",
       "      <td>1</td>\n",
       "      <td>1</td>\n",
       "      <td>0</td>\n",
       "      <td>1</td>\n",
       "      <td>1</td>\n",
       "      <td>1</td>\n",
       "    </tr>\n",
       "    <tr>\n",
       "      <th>b018d443-e80e-4734-acd4-62fae318b433</th>\n",
       "      <td>1</td>\n",
       "      <td>1</td>\n",
       "      <td>1</td>\n",
       "      <td>0</td>\n",
       "      <td>0</td>\n",
       "      <td>0</td>\n",
       "    </tr>\n",
       "  </tbody>\n",
       "</table>\n",
       "<p>100 rows × 6 columns</p>\n",
       "</div>"
      ],
      "text/plain": [
       "                                     7881 10834 61603 62040 63288 125830\n",
       "person_id                                                               \n",
       "170636bb-3601-4a18-b572-52650c0d2d0e    1     1     1     1     1      1\n",
       "2a4c9697-b937-4429-9fd3-5529929a1ab9    0     1     1     1     1      1\n",
       "4d12441d-3748-4b05-81bf-fd24f9f9d6f4    0     0     0     0     1      1\n",
       "00f173be-96b1-4407-809c-6882e5bbb1fd    1     1     0     0     0      0\n",
       "f5aa1643-398f-4027-ab75-7b72ebe92d90    1     1     0     1     1      1\n",
       "...                                   ...   ...   ...   ...   ...    ...\n",
       "f00c336b-e02c-44e5-8bfa-59b71374fa54    0     0     0     0     1      1\n",
       "49402263-e3b7-4305-a09e-f5508ab4aa92    0     0     0     0     1      1\n",
       "ea684db5-6354-4e26-80a5-555115109460    1     1     0     0     0      0\n",
       "d942bf24-3078-49be-9d82-9103bb630a65    1     1     0     1     1      1\n",
       "b018d443-e80e-4734-acd4-62fae318b433    1     1     1     0     0      0\n",
       "\n",
       "[100 rows x 6 columns]"
      ]
     },
     "execution_count": 61,
     "metadata": {},
     "output_type": "execute_result"
    }
   ],
   "source": [
    "def build_market_basket(df):\n",
    "    unique_product_list = df['processed_product_ids'].explode().unique().tolist()\n",
    "    products_str = [str(x) for x in unique_product_list]\n",
    "\n",
    "    market_basket = pd.DataFrame(columns = products_str, index = df['person_id'])\n",
    "\n",
    "    for person_id in df['person_id'].tolist():\n",
    "        for product in unique_product_list:\n",
    "            market_basket.loc[person_id, str(product)] = encode_data(df, person_id, product)\n",
    "\n",
    "    return market_basket\n",
    "\n",
    "market_basket = build_market_basket(df)\n",
    "market_basket"
   ]
  },
  {
   "cell_type": "markdown",
   "metadata": {},
   "source": [
    "### Applying to the Apriori algorithm to get association rules"
   ]
  },
  {
   "cell_type": "code",
   "execution_count": 59,
   "metadata": {},
   "outputs": [
    {
     "data": {
      "text/html": [
       "<div>\n",
       "<style scoped>\n",
       "    .dataframe tbody tr th:only-of-type {\n",
       "        vertical-align: middle;\n",
       "    }\n",
       "\n",
       "    .dataframe tbody tr th {\n",
       "        vertical-align: top;\n",
       "    }\n",
       "\n",
       "    .dataframe thead th {\n",
       "        text-align: right;\n",
       "    }\n",
       "</style>\n",
       "<table border=\"1\" class=\"dataframe\">\n",
       "  <thead>\n",
       "    <tr style=\"text-align: right;\">\n",
       "      <th></th>\n",
       "      <th>antecedents</th>\n",
       "      <th>consequents</th>\n",
       "      <th>antecedent support</th>\n",
       "      <th>consequent support</th>\n",
       "      <th>support</th>\n",
       "      <th>confidence</th>\n",
       "      <th>lift</th>\n",
       "      <th>leverage</th>\n",
       "      <th>conviction</th>\n",
       "    </tr>\n",
       "  </thead>\n",
       "  <tbody>\n",
       "    <tr>\n",
       "      <th>0</th>\n",
       "      <td>(7881)</td>\n",
       "      <td>(10834)</td>\n",
       "      <td>0.64</td>\n",
       "      <td>0.82</td>\n",
       "      <td>0.64</td>\n",
       "      <td>1.000000</td>\n",
       "      <td>1.219512</td>\n",
       "      <td>0.1152</td>\n",
       "      <td>inf</td>\n",
       "    </tr>\n",
       "    <tr>\n",
       "      <th>1</th>\n",
       "      <td>(10834)</td>\n",
       "      <td>(7881)</td>\n",
       "      <td>0.82</td>\n",
       "      <td>0.64</td>\n",
       "      <td>0.64</td>\n",
       "      <td>0.780488</td>\n",
       "      <td>1.219512</td>\n",
       "      <td>0.1152</td>\n",
       "      <td>1.640000</td>\n",
       "    </tr>\n",
       "    <tr>\n",
       "      <th>2</th>\n",
       "      <td>(61603)</td>\n",
       "      <td>(10834)</td>\n",
       "      <td>0.53</td>\n",
       "      <td>0.82</td>\n",
       "      <td>0.53</td>\n",
       "      <td>1.000000</td>\n",
       "      <td>1.219512</td>\n",
       "      <td>0.0954</td>\n",
       "      <td>inf</td>\n",
       "    </tr>\n",
       "    <tr>\n",
       "      <th>3</th>\n",
       "      <td>(10834)</td>\n",
       "      <td>(61603)</td>\n",
       "      <td>0.82</td>\n",
       "      <td>0.53</td>\n",
       "      <td>0.53</td>\n",
       "      <td>0.646341</td>\n",
       "      <td>1.219512</td>\n",
       "      <td>0.0954</td>\n",
       "      <td>1.328966</td>\n",
       "    </tr>\n",
       "    <tr>\n",
       "      <th>4</th>\n",
       "      <td>(10834)</td>\n",
       "      <td>(62040)</td>\n",
       "      <td>0.82</td>\n",
       "      <td>0.49</td>\n",
       "      <td>0.49</td>\n",
       "      <td>0.597561</td>\n",
       "      <td>1.219512</td>\n",
       "      <td>0.0882</td>\n",
       "      <td>1.267273</td>\n",
       "    </tr>\n",
       "    <tr>\n",
       "      <th>5</th>\n",
       "      <td>(62040)</td>\n",
       "      <td>(10834)</td>\n",
       "      <td>0.49</td>\n",
       "      <td>0.82</td>\n",
       "      <td>0.49</td>\n",
       "      <td>1.000000</td>\n",
       "      <td>1.219512</td>\n",
       "      <td>0.0882</td>\n",
       "      <td>inf</td>\n",
       "    </tr>\n",
       "    <tr>\n",
       "      <th>6</th>\n",
       "      <td>(63288)</td>\n",
       "      <td>(10834)</td>\n",
       "      <td>0.67</td>\n",
       "      <td>0.82</td>\n",
       "      <td>0.49</td>\n",
       "      <td>0.731343</td>\n",
       "      <td>0.891882</td>\n",
       "      <td>-0.0594</td>\n",
       "      <td>0.670000</td>\n",
       "    </tr>\n",
       "    <tr>\n",
       "      <th>7</th>\n",
       "      <td>(10834)</td>\n",
       "      <td>(63288)</td>\n",
       "      <td>0.82</td>\n",
       "      <td>0.67</td>\n",
       "      <td>0.49</td>\n",
       "      <td>0.597561</td>\n",
       "      <td>0.891882</td>\n",
       "      <td>-0.0594</td>\n",
       "      <td>0.820000</td>\n",
       "    </tr>\n",
       "    <tr>\n",
       "      <th>8</th>\n",
       "      <td>(125830)</td>\n",
       "      <td>(10834)</td>\n",
       "      <td>0.67</td>\n",
       "      <td>0.82</td>\n",
       "      <td>0.49</td>\n",
       "      <td>0.731343</td>\n",
       "      <td>0.891882</td>\n",
       "      <td>-0.0594</td>\n",
       "      <td>0.670000</td>\n",
       "    </tr>\n",
       "    <tr>\n",
       "      <th>9</th>\n",
       "      <td>(10834)</td>\n",
       "      <td>(125830)</td>\n",
       "      <td>0.82</td>\n",
       "      <td>0.67</td>\n",
       "      <td>0.49</td>\n",
       "      <td>0.597561</td>\n",
       "      <td>0.891882</td>\n",
       "      <td>-0.0594</td>\n",
       "      <td>0.820000</td>\n",
       "    </tr>\n",
       "    <tr>\n",
       "      <th>10</th>\n",
       "      <td>(63288)</td>\n",
       "      <td>(62040)</td>\n",
       "      <td>0.67</td>\n",
       "      <td>0.49</td>\n",
       "      <td>0.49</td>\n",
       "      <td>0.731343</td>\n",
       "      <td>1.492537</td>\n",
       "      <td>0.1617</td>\n",
       "      <td>1.898333</td>\n",
       "    </tr>\n",
       "    <tr>\n",
       "      <th>11</th>\n",
       "      <td>(62040)</td>\n",
       "      <td>(63288)</td>\n",
       "      <td>0.49</td>\n",
       "      <td>0.67</td>\n",
       "      <td>0.49</td>\n",
       "      <td>1.000000</td>\n",
       "      <td>1.492537</td>\n",
       "      <td>0.1617</td>\n",
       "      <td>inf</td>\n",
       "    </tr>\n",
       "    <tr>\n",
       "      <th>12</th>\n",
       "      <td>(125830)</td>\n",
       "      <td>(62040)</td>\n",
       "      <td>0.67</td>\n",
       "      <td>0.49</td>\n",
       "      <td>0.49</td>\n",
       "      <td>0.731343</td>\n",
       "      <td>1.492537</td>\n",
       "      <td>0.1617</td>\n",
       "      <td>1.898333</td>\n",
       "    </tr>\n",
       "    <tr>\n",
       "      <th>13</th>\n",
       "      <td>(62040)</td>\n",
       "      <td>(125830)</td>\n",
       "      <td>0.49</td>\n",
       "      <td>0.67</td>\n",
       "      <td>0.49</td>\n",
       "      <td>1.000000</td>\n",
       "      <td>1.492537</td>\n",
       "      <td>0.1617</td>\n",
       "      <td>inf</td>\n",
       "    </tr>\n",
       "    <tr>\n",
       "      <th>14</th>\n",
       "      <td>(63288)</td>\n",
       "      <td>(125830)</td>\n",
       "      <td>0.67</td>\n",
       "      <td>0.67</td>\n",
       "      <td>0.67</td>\n",
       "      <td>1.000000</td>\n",
       "      <td>1.492537</td>\n",
       "      <td>0.2211</td>\n",
       "      <td>inf</td>\n",
       "    </tr>\n",
       "    <tr>\n",
       "      <th>15</th>\n",
       "      <td>(125830)</td>\n",
       "      <td>(63288)</td>\n",
       "      <td>0.67</td>\n",
       "      <td>0.67</td>\n",
       "      <td>0.67</td>\n",
       "      <td>1.000000</td>\n",
       "      <td>1.492537</td>\n",
       "      <td>0.2211</td>\n",
       "      <td>inf</td>\n",
       "    </tr>\n",
       "  </tbody>\n",
       "</table>\n",
       "</div>"
      ],
      "text/plain": [
       "   antecedents consequents  antecedent support  consequent support  support  \\\n",
       "0       (7881)     (10834)                0.64                0.82     0.64   \n",
       "1      (10834)      (7881)                0.82                0.64     0.64   \n",
       "2      (61603)     (10834)                0.53                0.82     0.53   \n",
       "3      (10834)     (61603)                0.82                0.53     0.53   \n",
       "4      (10834)     (62040)                0.82                0.49     0.49   \n",
       "5      (62040)     (10834)                0.49                0.82     0.49   \n",
       "6      (63288)     (10834)                0.67                0.82     0.49   \n",
       "7      (10834)     (63288)                0.82                0.67     0.49   \n",
       "8     (125830)     (10834)                0.67                0.82     0.49   \n",
       "9      (10834)    (125830)                0.82                0.67     0.49   \n",
       "10     (63288)     (62040)                0.67                0.49     0.49   \n",
       "11     (62040)     (63288)                0.49                0.67     0.49   \n",
       "12    (125830)     (62040)                0.67                0.49     0.49   \n",
       "13     (62040)    (125830)                0.49                0.67     0.49   \n",
       "14     (63288)    (125830)                0.67                0.67     0.67   \n",
       "15    (125830)     (63288)                0.67                0.67     0.67   \n",
       "\n",
       "    confidence      lift  leverage  conviction  \n",
       "0     1.000000  1.219512    0.1152         inf  \n",
       "1     0.780488  1.219512    0.1152    1.640000  \n",
       "2     1.000000  1.219512    0.0954         inf  \n",
       "3     0.646341  1.219512    0.0954    1.328966  \n",
       "4     0.597561  1.219512    0.0882    1.267273  \n",
       "5     1.000000  1.219512    0.0882         inf  \n",
       "6     0.731343  0.891882   -0.0594    0.670000  \n",
       "7     0.597561  0.891882   -0.0594    0.820000  \n",
       "8     0.731343  0.891882   -0.0594    0.670000  \n",
       "9     0.597561  0.891882   -0.0594    0.820000  \n",
       "10    0.731343  1.492537    0.1617    1.898333  \n",
       "11    1.000000  1.492537    0.1617         inf  \n",
       "12    0.731343  1.492537    0.1617    1.898333  \n",
       "13    1.000000  1.492537    0.1617         inf  \n",
       "14    1.000000  1.492537    0.2211         inf  \n",
       "15    1.000000  1.492537    0.2211         inf  "
      ]
     },
     "execution_count": 59,
     "metadata": {},
     "output_type": "execute_result"
    }
   ],
   "source": [
    "def get_association_rules(market_basket, min_support, min_confidence, max_len = 2):\n",
    "    # compute frequent items using the Apriori algorithm\n",
    "    frequent_itemsets = apriori(market_basket, min_support = min_support, max_len = max_len, use_colnames=True)\n",
    "\n",
    "    # compute all association rules for frequent_itemsets\n",
    "    rules = association_rules(frequent_itemsets, metric = \"confidence\", min_threshold = min_confidence)\n",
    "    \n",
    "    return rules\n",
    "\n",
    "rules = get_association_rules(market_basket, min_support = 0.40, min_confidence = 0.50)\n",
    "rules"
   ]
  },
  {
   "cell_type": "code",
   "execution_count": 58,
   "metadata": {},
   "outputs": [
    {
     "data": {
      "text/plain": [
       "{frozenset({'7881'}): ['10834'],\n",
       " frozenset({'10834'}): ['7881', '61603', '62040', '63288', '125830'],\n",
       " frozenset({'61603'}): ['10834'],\n",
       " frozenset({'62040'}): ['10834', '63288', '125830'],\n",
       " frozenset({'63288'}): ['10834', '62040', '125830'],\n",
       " frozenset({'125830'}): ['10834', '62040', '63288']}"
      ]
     },
     "execution_count": 58,
     "metadata": {},
     "output_type": "execute_result"
    }
   ],
   "source": [
    "def get_rules_look_up(rules):\n",
    "    rules_look_up = {}\n",
    "\n",
    "    for idx in range(0, len(rules['antecedents'])):\n",
    "        if rules.loc[idx, 'antecedents'] in rules_look_up:\n",
    "            rules_look_up[rules.loc[idx, 'antecedents']] = rules_look_up[rules.loc[idx, 'antecedents']] + list(rules.loc[idx, 'consequents'])\n",
    "        else:\n",
    "            rules_look_up[rules.loc[idx, 'antecedents']] = list(rules.loc[idx, 'consequents'])\n",
    "\n",
    "    return rules_look_up\n",
    "\n",
    "get_rules_look_up(rules)"
   ]
  },
  {
   "cell_type": "code",
   "execution_count": 47,
   "metadata": {},
   "outputs": [
    {
     "data": {
      "text/plain": [
       "frozenset({'7881'})"
      ]
     },
     "execution_count": 47,
     "metadata": {},
     "output_type": "execute_result"
    }
   ],
   "source": [
    "def int_to_frozenset(product_id):\n",
    "    return frozenset({str(product_id)})\n",
    "   \n",
    "int_to_frozenset(7881)"
   ]
  },
  {
   "cell_type": "code",
   "execution_count": 48,
   "metadata": {},
   "outputs": [
    {
     "data": {
      "text/plain": [
       "[7881, 61603, 62040, 63288, 125830]"
      ]
     },
     "execution_count": 48,
     "metadata": {},
     "output_type": "execute_result"
    }
   ],
   "source": [
    "def strList_to_intList(lst):\n",
    "    new_list = []\n",
    "    for i in lst:\n",
    "        new_list.append(int(i))\n",
    "    return new_list\n",
    "\n",
    "strList_to_intList(['7881', '61603', '62040', '63288', '125830'])"
   ]
  },
  {
   "cell_type": "code",
   "execution_count": 56,
   "metadata": {},
   "outputs": [
    {
     "data": {
      "text/plain": [
       "[63288, 125830]"
      ]
     },
     "execution_count": 56,
     "metadata": {},
     "output_type": "execute_result"
    }
   ],
   "source": [
    "df[df['person_id'] == \"4d12441d-3748-4b05-81bf-fd24f9f9d6f4\"]['processed_product_ids'].to_numpy()[0].tolist()"
   ]
  },
  {
   "cell_type": "code",
   "execution_count": 66,
   "metadata": {},
   "outputs": [
    {
     "data": {
      "text/plain": [
       "[63288, 125830]"
      ]
     },
     "execution_count": 66,
     "metadata": {},
     "output_type": "execute_result"
    }
   ],
   "source": [
    "def get_shoppingList(person_id):\n",
    "    return df[df['person_id'] == person_id]['processed_product_ids'].to_numpy()[0].tolist()\n",
    "\n",
    "get_shoppingList(\"4d12441d-3748-4b05-81bf-fd24f9f9d6f4\")"
   ]
  },
  {
   "cell_type": "code",
   "execution_count": 70,
   "metadata": {},
   "outputs": [],
   "source": [
    "rules_lookup = get_rules_look_up(rules)\n",
    "\n",
    "def get_recommendations(person_id):\n",
    "    products_to_recommend = []\n",
    "    \n",
    "    items_bought = get_shoppingList(person_id)\n",
    "    \n",
    "    for i in items_bought:\n",
    "        recommendations = rules_lookup[int_to_frozenset(i)]\n",
    "        recommendations = strList_to_intList(recommendations)\n",
    "        products_to_recommend = products_to_recommend + recommendations\n",
    "    \n",
    "    final_recommendations = [item for item in products_to_recommend if item not in items_bought]\n",
    "    \n",
    "    if len(final_recommendations) == 0:\n",
    "        final_recommendations = items_bought\n",
    "        \n",
    "    return final_recommendations"
   ]
  },
  {
   "cell_type": "code",
   "execution_count": 71,
   "metadata": {},
   "outputs": [
    {
     "data": {
      "text/plain": [
       "[10834, 62040, 10834, 62040]"
      ]
     },
     "execution_count": 71,
     "metadata": {},
     "output_type": "execute_result"
    }
   ],
   "source": [
    "get_recommendations(\"4d12441d-3748-4b05-81bf-fd24f9f9d6f4\")"
   ]
  },
  {
   "cell_type": "code",
   "execution_count": 72,
   "metadata": {},
   "outputs": [
    {
     "data": {
      "text/plain": [
       "[7881, 10834, 61603, 62040, 63288, 125830]"
      ]
     },
     "execution_count": 72,
     "metadata": {},
     "output_type": "execute_result"
    }
   ],
   "source": [
    "get_recommendations(\"170636bb-3601-4a18-b572-52650c0d2d0e\")"
   ]
  },
  {
   "cell_type": "code",
   "execution_count": null,
   "metadata": {},
   "outputs": [],
   "source": []
  }
 ],
 "metadata": {
  "kernelspec": {
   "display_name": "Python 3",
   "language": "python",
   "name": "python3"
  },
  "language_info": {
   "codemirror_mode": {
    "name": "ipython",
    "version": 3
   },
   "file_extension": ".py",
   "mimetype": "text/x-python",
   "name": "python",
   "nbconvert_exporter": "python",
   "pygments_lexer": "ipython3",
   "version": "3.6.1"
  }
 },
 "nbformat": 4,
 "nbformat_minor": 2
}
